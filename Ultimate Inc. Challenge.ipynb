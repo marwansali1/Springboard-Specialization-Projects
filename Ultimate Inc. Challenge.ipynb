{
 "cells": [
  {
   "cell_type": "code",
   "execution_count": 1,
   "id": "839b7486",
   "metadata": {},
   "outputs": [],
   "source": [
    "import json\n",
    "import pandas as pd\n",
    "import numpy as np\n",
    "import matplotlib.pyplot as plt\n",
    "import seaborn as sns\n",
    "%matplotlib inline\n",
    "plt.style.use('seaborn')"
   ]
  },
  {
   "cell_type": "code",
   "execution_count": 2,
   "id": "30b64f94",
   "metadata": {},
   "outputs": [],
   "source": [
    "file = 'logins.json'\n",
    "f = open(file)\n",
    "logins = json.loads(f.read())\n",
    "f.close()"
   ]
  },
  {
   "cell_type": "code",
   "execution_count": 3,
   "id": "8c93b811",
   "metadata": {},
   "outputs": [
    {
     "data": {
      "text/plain": [
       "dict_keys(['login_time'])"
      ]
     },
     "execution_count": 3,
     "metadata": {},
     "output_type": "execute_result"
    }
   ],
   "source": [
    "#inspect keys\n",
    "logins.keys()"
   ]
  },
  {
   "cell_type": "code",
   "execution_count": 4,
   "id": "38056923",
   "metadata": {},
   "outputs": [
    {
     "name": "stdout",
     "output_type": "stream",
     "text": [
      "93142\n"
     ]
    }
   ],
   "source": [
    "#how much data\n",
    "print(len(logins['login_time']))"
   ]
  },
  {
   "cell_type": "code",
   "execution_count": 5,
   "id": "2d196444",
   "metadata": {},
   "outputs": [
    {
     "data": {
      "text/html": [
       "<div>\n",
       "<style scoped>\n",
       "    .dataframe tbody tr th:only-of-type {\n",
       "        vertical-align: middle;\n",
       "    }\n",
       "\n",
       "    .dataframe tbody tr th {\n",
       "        vertical-align: top;\n",
       "    }\n",
       "\n",
       "    .dataframe thead th {\n",
       "        text-align: right;\n",
       "    }\n",
       "</style>\n",
       "<table border=\"1\" class=\"dataframe\">\n",
       "  <thead>\n",
       "    <tr style=\"text-align: right;\">\n",
       "      <th></th>\n",
       "      <th>login_time</th>\n",
       "    </tr>\n",
       "  </thead>\n",
       "  <tbody>\n",
       "    <tr>\n",
       "      <th>0</th>\n",
       "      <td>1970-01-01 20:13:18</td>\n",
       "    </tr>\n",
       "    <tr>\n",
       "      <th>1</th>\n",
       "      <td>1970-01-01 20:16:10</td>\n",
       "    </tr>\n",
       "    <tr>\n",
       "      <th>2</th>\n",
       "      <td>1970-01-01 20:16:37</td>\n",
       "    </tr>\n",
       "    <tr>\n",
       "      <th>3</th>\n",
       "      <td>1970-01-01 20:16:36</td>\n",
       "    </tr>\n",
       "    <tr>\n",
       "      <th>4</th>\n",
       "      <td>1970-01-01 20:26:21</td>\n",
       "    </tr>\n",
       "  </tbody>\n",
       "</table>\n",
       "</div>"
      ],
      "text/plain": [
       "           login_time\n",
       "0 1970-01-01 20:13:18\n",
       "1 1970-01-01 20:16:10\n",
       "2 1970-01-01 20:16:37\n",
       "3 1970-01-01 20:16:36\n",
       "4 1970-01-01 20:26:21"
      ]
     },
     "execution_count": 5,
     "metadata": {},
     "output_type": "execute_result"
    }
   ],
   "source": [
    "#create dataframe\n",
    "df_logins = pd.DataFrame(pd.to_datetime(logins['login_time']),columns=['login_time'])\n",
    "df_logins.head()"
   ]
  },
  {
   "cell_type": "code",
   "execution_count": 6,
   "id": "984330cd",
   "metadata": {},
   "outputs": [
    {
     "data": {
      "text/plain": [
       "(0, 1)"
      ]
     },
     "execution_count": 6,
     "metadata": {},
     "output_type": "execute_result"
    }
   ],
   "source": [
    "#check for na values\n",
    "df_logins[df_logins['login_time'].isna()].shape"
   ]
  },
  {
   "cell_type": "code",
   "execution_count": 7,
   "id": "771662d4",
   "metadata": {},
   "outputs": [
    {
     "data": {
      "text/html": [
       "<div>\n",
       "<style scoped>\n",
       "    .dataframe tbody tr th:only-of-type {\n",
       "        vertical-align: middle;\n",
       "    }\n",
       "\n",
       "    .dataframe tbody tr th {\n",
       "        vertical-align: top;\n",
       "    }\n",
       "\n",
       "    .dataframe thead th {\n",
       "        text-align: right;\n",
       "    }\n",
       "</style>\n",
       "<table border=\"1\" class=\"dataframe\">\n",
       "  <thead>\n",
       "    <tr style=\"text-align: right;\">\n",
       "      <th></th>\n",
       "      <th>count</th>\n",
       "    </tr>\n",
       "    <tr>\n",
       "      <th>login_time</th>\n",
       "      <th></th>\n",
       "    </tr>\n",
       "  </thead>\n",
       "  <tbody>\n",
       "    <tr>\n",
       "      <th>1970-04-13 18:50:19</th>\n",
       "      <td>1</td>\n",
       "    </tr>\n",
       "    <tr>\n",
       "      <th>1970-04-13 18:43:56</th>\n",
       "      <td>1</td>\n",
       "    </tr>\n",
       "    <tr>\n",
       "      <th>1970-04-13 18:54:02</th>\n",
       "      <td>1</td>\n",
       "    </tr>\n",
       "    <tr>\n",
       "      <th>1970-04-13 18:57:38</th>\n",
       "      <td>1</td>\n",
       "    </tr>\n",
       "    <tr>\n",
       "      <th>1970-04-13 18:54:23</th>\n",
       "      <td>1</td>\n",
       "    </tr>\n",
       "  </tbody>\n",
       "</table>\n",
       "</div>"
      ],
      "text/plain": [
       "                     count\n",
       "login_time                \n",
       "1970-04-13 18:50:19      1\n",
       "1970-04-13 18:43:56      1\n",
       "1970-04-13 18:54:02      1\n",
       "1970-04-13 18:57:38      1\n",
       "1970-04-13 18:54:23      1"
      ]
     },
     "execution_count": 7,
     "metadata": {},
     "output_type": "execute_result"
    }
   ],
   "source": [
    "#add count column for resample\n",
    "df_logins['count'] = 1\n",
    "#set login time as index for resampling\n",
    "df_logins.index = df_logins['login_time']\n",
    "#drop redundant column\n",
    "df_logins.drop('login_time',axis=1,inplace=True)\n",
    "df_logins.tail()"
   ]
  },
  {
   "cell_type": "code",
   "execution_count": 8,
   "id": "441945c5",
   "metadata": {},
   "outputs": [
    {
     "data": {
      "text/plain": [
       "<AxesSubplot:xlabel='login_time'>"
      ]
     },
     "execution_count": 8,
     "metadata": {},
     "output_type": "execute_result"
    },
    {
     "data": {
      "image/png": "[encoded data removed]",
      "text/plain": [
       "<Figure size 864x432 with 1 Axes>"
      ]
     },
     "metadata": {},
     "output_type": "display_data"
    }
   ],
   "source": [
    "df_count = df_logins.resample('15min').sum()\n",
    "df_count.plot(kind='line',figsize=(12,6))"
   ]
  },
  {
   "cell_type": "code",
   "execution_count": 9,
   "id": "161b9795",
   "metadata": {},
   "outputs": [
    {
     "data": {
      "text/html": [
       "<div>\n",
       "<style scoped>\n",
       "    .dataframe tbody tr th:only-of-type {\n",
       "        vertical-align: middle;\n",
       "    }\n",
       "\n",
       "    .dataframe tbody tr th {\n",
       "        vertical-align: top;\n",
       "    }\n",
       "\n",
       "    .dataframe thead th {\n",
       "        text-align: right;\n",
       "    }\n",
       "</style>\n",
       "<table border=\"1\" class=\"dataframe\">\n",
       "  <thead>\n",
       "    <tr style=\"text-align: right;\">\n",
       "      <th></th>\n",
       "      <th>count</th>\n",
       "    </tr>\n",
       "  </thead>\n",
       "  <tbody>\n",
       "    <tr>\n",
       "      <th>count</th>\n",
       "      <td>9788.000000</td>\n",
       "    </tr>\n",
       "    <tr>\n",
       "      <th>mean</th>\n",
       "      <td>9.515938</td>\n",
       "    </tr>\n",
       "    <tr>\n",
       "      <th>std</th>\n",
       "      <td>8.328818</td>\n",
       "    </tr>\n",
       "    <tr>\n",
       "      <th>min</th>\n",
       "      <td>0.000000</td>\n",
       "    </tr>\n",
       "    <tr>\n",
       "      <th>25%</th>\n",
       "      <td>3.000000</td>\n",
       "    </tr>\n",
       "    <tr>\n",
       "      <th>50%</th>\n",
       "      <td>7.000000</td>\n",
       "    </tr>\n",
       "    <tr>\n",
       "      <th>75%</th>\n",
       "      <td>13.000000</td>\n",
       "    </tr>\n",
       "    <tr>\n",
       "      <th>max</th>\n",
       "      <td>73.000000</td>\n",
       "    </tr>\n",
       "  </tbody>\n",
       "</table>\n",
       "</div>"
      ],
      "text/plain": [
       "             count\n",
       "count  9788.000000\n",
       "mean      9.515938\n",
       "std       8.328818\n",
       "min       0.000000\n",
       "25%       3.000000\n",
       "50%       7.000000\n",
       "75%      13.000000\n",
       "max      73.000000"
      ]
     },
     "execution_count": 9,
     "metadata": {},
     "output_type": "execute_result"
    }
   ],
   "source": [
    "###Plotting the 15 minute intervals over the 4 month period, we can see a sinusoidal pattern that seems to have an average value that is increasing.\n",
    "df_count.describe()"
   ]
  },
  {
   "cell_type": "code",
   "execution_count": 10,
   "id": "834453f2",
   "metadata": {},
   "outputs": [],
   "source": [
    "###The average number of logins per 15 minutes is 7. The mean is being pulled up by the spikes in our dataset. Let's take a look at the day distributions of the logins."
   ]
  },
  {
   "cell_type": "code",
   "execution_count": 11,
   "id": "db8e54ce",
   "metadata": {},
   "outputs": [
    {
     "data": {
      "text/html": [
       "<div>\n",
       "<style scoped>\n",
       "    .dataframe tbody tr th:only-of-type {\n",
       "        vertical-align: middle;\n",
       "    }\n",
       "\n",
       "    .dataframe tbody tr th {\n",
       "        vertical-align: top;\n",
       "    }\n",
       "\n",
       "    .dataframe thead th {\n",
       "        text-align: right;\n",
       "    }\n",
       "</style>\n",
       "<table border=\"1\" class=\"dataframe\">\n",
       "  <thead>\n",
       "    <tr style=\"text-align: right;\">\n",
       "      <th></th>\n",
       "      <th>count</th>\n",
       "      <th>month_day</th>\n",
       "      <th>weekday</th>\n",
       "    </tr>\n",
       "    <tr>\n",
       "      <th>login_time</th>\n",
       "      <th></th>\n",
       "      <th></th>\n",
       "      <th></th>\n",
       "    </tr>\n",
       "  </thead>\n",
       "  <tbody>\n",
       "    <tr>\n",
       "      <th>1970-01-01 20:00:00</th>\n",
       "      <td>2</td>\n",
       "      <td>1</td>\n",
       "      <td>3</td>\n",
       "    </tr>\n",
       "    <tr>\n",
       "      <th>1970-01-01 20:15:00</th>\n",
       "      <td>6</td>\n",
       "      <td>1</td>\n",
       "      <td>3</td>\n",
       "    </tr>\n",
       "    <tr>\n",
       "      <th>1970-01-01 20:30:00</th>\n",
       "      <td>9</td>\n",
       "      <td>1</td>\n",
       "      <td>3</td>\n",
       "    </tr>\n",
       "    <tr>\n",
       "      <th>1970-01-01 20:45:00</th>\n",
       "      <td>7</td>\n",
       "      <td>1</td>\n",
       "      <td>3</td>\n",
       "    </tr>\n",
       "    <tr>\n",
       "      <th>1970-01-01 21:00:00</th>\n",
       "      <td>1</td>\n",
       "      <td>1</td>\n",
       "      <td>3</td>\n",
       "    </tr>\n",
       "  </tbody>\n",
       "</table>\n",
       "</div>"
      ],
      "text/plain": [
       "                     count  month_day  weekday\n",
       "login_time                                    \n",
       "1970-01-01 20:00:00      2          1        3\n",
       "1970-01-01 20:15:00      6          1        3\n",
       "1970-01-01 20:30:00      9          1        3\n",
       "1970-01-01 20:45:00      7          1        3\n",
       "1970-01-01 21:00:00      1          1        3"
      ]
     },
     "execution_count": 11,
     "metadata": {},
     "output_type": "execute_result"
    }
   ],
   "source": [
    "#create new columns for items of interest\n",
    "df_count = df_count.assign(month_day=df_count.index.day)\n",
    "df_count = df_count.assign(weekday=df_count.index.weekday)\n",
    "df_count.head()"
   ]
  },
  {
   "cell_type": "code",
   "execution_count": 12,
   "id": "a9c6f277",
   "metadata": {},
   "outputs": [],
   "source": [
    "spike = np.quantile(df_count,0.99)\n",
    "df_spike = df_count[df_count['count'] >= spike]\n",
    "month_days = []\n",
    "weekdays = []\n",
    "for date in df_spike.index:\n",
    "    month_days.append(date.day)\n",
    "    weekdays.append(date.weekday())\n",
    "    \n",
    "df_spike_days = pd.DataFrame(month_days,columns=['day'],index=range(len(month_days)))\n",
    "df_spike_weekdays = pd.DataFrame(weekdays,columns=['weekday'],index=range(len(weekdays)))"
   ]
  },
  {
   "cell_type": "code",
   "execution_count": 13,
   "id": "0a2a9685",
   "metadata": {},
   "outputs": [
    {
     "data": {
      "text/plain": [
       "21    25\n",
       "4     24\n",
       "22    18\n",
       "15    18\n",
       "28    17\n",
       "7     15\n",
       "8     15\n",
       "14    14\n",
       "29    14\n",
       "3     13\n",
       "Name: day, dtype: int64"
      ]
     },
     "execution_count": 13,
     "metadata": {},
     "output_type": "execute_result"
    }
   ],
   "source": [
    "df_spike_days.day.value_counts()[0:10]"
   ]
  },
  {
   "cell_type": "code",
   "execution_count": 14,
   "id": "f9d522c5",
   "metadata": {},
   "outputs": [
    {
     "data": {
      "text/plain": [
       "5    104\n",
       "6    103\n",
       "4     48\n",
       "3     15\n",
       "2      7\n",
       "1      7\n",
       "0      2\n",
       "Name: weekday, dtype: int64"
      ]
     },
     "execution_count": 14,
     "metadata": {},
     "output_type": "execute_result"
    }
   ],
   "source": [
    "df_spike_weekdays.weekday.value_counts()"
   ]
  },
  {
   "cell_type": "code",
   "execution_count": 15,
   "id": "d42f1817",
   "metadata": {},
   "outputs": [
    {
     "data": {
      "text/plain": [
       "<AxesSubplot:xlabel='login_time'>"
      ]
     },
     "execution_count": 15,
     "metadata": {},
     "output_type": "execute_result"
    },
    {
     "data": {
      "image/png": "[encoded data removed]",
      "text/plain": [
       "<Figure size 864x432 with 1 Axes>"
      ]
     },
     "metadata": {},
     "output_type": "display_data"
    }
   ],
   "source": [
    "###The spikes in user logins occur overwhelmingly on the weekends, which makes sense since many people use ride share apps to go to parties or bars, which are frequented mostly on the weekends.\n",
    "###Let's look now at the daily frequency data\n",
    "#resample to daily frequency\n",
    "df_day = df_logins.resample('1D').sum()\n",
    "df_day.plot(kind='line',figsize=(12,6))"
   ]
  },
  {
   "cell_type": "code",
   "execution_count": 16,
   "id": "af5a17ff",
   "metadata": {},
   "outputs": [
    {
     "data": {
      "text/plain": [
       "Text(0.5, 20.800000000000026, 'Day')"
      ]
     },
     "execution_count": 16,
     "metadata": {},
     "output_type": "execute_result"
    },
    {
     "data": {
      "image/png": "[encoded data removed]",
      "text/plain": [
       "<Figure size 360x360 with 1 Axes>"
      ]
     },
     "metadata": {},
     "output_type": "display_data"
    }
   ],
   "source": [
    "###Resampling to daily frequency shows there is an increasing trend of the average number of logins. At first, through the month of January, there seems to be little or no change in the average number of daily logins, then February starts the increasing trend. Linear model plots will confirm or deny this.\n",
    "#plot January trend\n",
    "plot_df = df_day[df_day.index.month==1]\n",
    "plot_df = plot_df.assign(x = range(plot_df.shape[0]))\n",
    "sns.lmplot(data=plot_df,x='x',y='count')\n",
    "plt.xlabel('Day')"
   ]
  },
  {
   "cell_type": "code",
   "execution_count": 17,
   "id": "712cf10b",
   "metadata": {},
   "outputs": [
    {
     "data": {
      "text/plain": [
       "Text(0.5, 20.800000000000026, 'Day')"
      ]
     },
     "execution_count": 17,
     "metadata": {},
     "output_type": "execute_result"
    },
    {
     "data": {
      "image/png": "[encoded data removed]",
      "text/plain": [
       "<Figure size 360x360 with 1 Axes>"
      ]
     },
     "metadata": {},
     "output_type": "display_data"
    }
   ],
   "source": [
    "###From the bootstrap confidence interval generated by Seaborn, we can see that there is no clear trend either increasing or decreasing because some of the bootstrap correlation coefficients are positive and some are negative. Therefore we can conclude that the upward trend does not start in January. Let's take a look at the rest of the months.\n",
    "#plot Feb - April trend\n",
    "plot_df = df_day[df_day.index.month!=1]\n",
    "plot_df = plot_df.assign(x = range(plot_df.shape[0]))\n",
    "sns.lmplot(data=plot_df,x='x',y='count')\n",
    "plt.xlabel('Day')"
   ]
  },
  {
   "cell_type": "code",
   "execution_count": 18,
   "id": "4332a9aa",
   "metadata": {},
   "outputs": [],
   "source": [
    "#import data from json file\n",
    "file = 'ultimate_data_challenge.json'\n",
    "with open(file) as f:\n",
    "    data = json.loads(f.read())\n",
    "df = pd.DataFrame(data)"
   ]
  },
  {
   "cell_type": "code",
   "execution_count": 19,
   "id": "2f01b9a5",
   "metadata": {},
   "outputs": [
    {
     "data": {
      "text/html": [
       "<div>\n",
       "<style scoped>\n",
       "    .dataframe tbody tr th:only-of-type {\n",
       "        vertical-align: middle;\n",
       "    }\n",
       "\n",
       "    .dataframe tbody tr th {\n",
       "        vertical-align: top;\n",
       "    }\n",
       "\n",
       "    .dataframe thead th {\n",
       "        text-align: right;\n",
       "    }\n",
       "</style>\n",
       "<table border=\"1\" class=\"dataframe\">\n",
       "  <thead>\n",
       "    <tr style=\"text-align: right;\">\n",
       "      <th></th>\n",
       "      <th>city</th>\n",
       "      <th>trips_in_first_30_days</th>\n",
       "      <th>signup_date</th>\n",
       "      <th>avg_rating_of_driver</th>\n",
       "      <th>avg_surge</th>\n",
       "      <th>last_trip_date</th>\n",
       "      <th>phone</th>\n",
       "      <th>surge_pct</th>\n",
       "      <th>ultimate_black_user</th>\n",
       "      <th>weekday_pct</th>\n",
       "      <th>avg_dist</th>\n",
       "      <th>avg_rating_by_driver</th>\n",
       "    </tr>\n",
       "  </thead>\n",
       "  <tbody>\n",
       "    <tr>\n",
       "      <th>0</th>\n",
       "      <td>King's Landing</td>\n",
       "      <td>4</td>\n",
       "      <td>2014-01-25</td>\n",
       "      <td>4.7</td>\n",
       "      <td>1.10</td>\n",
       "      <td>2014-06-17</td>\n",
       "      <td>iPhone</td>\n",
       "      <td>15.4</td>\n",
       "      <td>True</td>\n",
       "      <td>46.2</td>\n",
       "      <td>3.67</td>\n",
       "      <td>5.0</td>\n",
       "    </tr>\n",
       "    <tr>\n",
       "      <th>1</th>\n",
       "      <td>Astapor</td>\n",
       "      <td>0</td>\n",
       "      <td>2014-01-29</td>\n",
       "      <td>5.0</td>\n",
       "      <td>1.00</td>\n",
       "      <td>2014-05-05</td>\n",
       "      <td>Android</td>\n",
       "      <td>0.0</td>\n",
       "      <td>False</td>\n",
       "      <td>50.0</td>\n",
       "      <td>8.26</td>\n",
       "      <td>5.0</td>\n",
       "    </tr>\n",
       "    <tr>\n",
       "      <th>2</th>\n",
       "      <td>Astapor</td>\n",
       "      <td>3</td>\n",
       "      <td>2014-01-06</td>\n",
       "      <td>4.3</td>\n",
       "      <td>1.00</td>\n",
       "      <td>2014-01-07</td>\n",
       "      <td>iPhone</td>\n",
       "      <td>0.0</td>\n",
       "      <td>False</td>\n",
       "      <td>100.0</td>\n",
       "      <td>0.77</td>\n",
       "      <td>5.0</td>\n",
       "    </tr>\n",
       "    <tr>\n",
       "      <th>3</th>\n",
       "      <td>King's Landing</td>\n",
       "      <td>9</td>\n",
       "      <td>2014-01-10</td>\n",
       "      <td>4.6</td>\n",
       "      <td>1.14</td>\n",
       "      <td>2014-06-29</td>\n",
       "      <td>iPhone</td>\n",
       "      <td>20.0</td>\n",
       "      <td>True</td>\n",
       "      <td>80.0</td>\n",
       "      <td>2.36</td>\n",
       "      <td>4.9</td>\n",
       "    </tr>\n",
       "    <tr>\n",
       "      <th>4</th>\n",
       "      <td>Winterfell</td>\n",
       "      <td>14</td>\n",
       "      <td>2014-01-27</td>\n",
       "      <td>4.4</td>\n",
       "      <td>1.19</td>\n",
       "      <td>2014-03-15</td>\n",
       "      <td>Android</td>\n",
       "      <td>11.8</td>\n",
       "      <td>False</td>\n",
       "      <td>82.4</td>\n",
       "      <td>3.13</td>\n",
       "      <td>4.9</td>\n",
       "    </tr>\n",
       "    <tr>\n",
       "      <th>5</th>\n",
       "      <td>Winterfell</td>\n",
       "      <td>2</td>\n",
       "      <td>2014-01-09</td>\n",
       "      <td>3.5</td>\n",
       "      <td>1.00</td>\n",
       "      <td>2014-06-06</td>\n",
       "      <td>iPhone</td>\n",
       "      <td>0.0</td>\n",
       "      <td>True</td>\n",
       "      <td>100.0</td>\n",
       "      <td>10.56</td>\n",
       "      <td>5.0</td>\n",
       "    </tr>\n",
       "    <tr>\n",
       "      <th>6</th>\n",
       "      <td>Astapor</td>\n",
       "      <td>1</td>\n",
       "      <td>2014-01-24</td>\n",
       "      <td>NaN</td>\n",
       "      <td>1.00</td>\n",
       "      <td>2014-01-25</td>\n",
       "      <td>Android</td>\n",
       "      <td>0.0</td>\n",
       "      <td>False</td>\n",
       "      <td>100.0</td>\n",
       "      <td>3.95</td>\n",
       "      <td>4.0</td>\n",
       "    </tr>\n",
       "    <tr>\n",
       "      <th>7</th>\n",
       "      <td>Winterfell</td>\n",
       "      <td>2</td>\n",
       "      <td>2014-01-28</td>\n",
       "      <td>5.0</td>\n",
       "      <td>1.00</td>\n",
       "      <td>2014-01-29</td>\n",
       "      <td>iPhone</td>\n",
       "      <td>0.0</td>\n",
       "      <td>False</td>\n",
       "      <td>100.0</td>\n",
       "      <td>2.04</td>\n",
       "      <td>5.0</td>\n",
       "    </tr>\n",
       "    <tr>\n",
       "      <th>8</th>\n",
       "      <td>Winterfell</td>\n",
       "      <td>2</td>\n",
       "      <td>2014-01-21</td>\n",
       "      <td>4.5</td>\n",
       "      <td>1.00</td>\n",
       "      <td>2014-02-01</td>\n",
       "      <td>Android</td>\n",
       "      <td>0.0</td>\n",
       "      <td>False</td>\n",
       "      <td>100.0</td>\n",
       "      <td>4.36</td>\n",
       "      <td>5.0</td>\n",
       "    </tr>\n",
       "    <tr>\n",
       "      <th>9</th>\n",
       "      <td>Winterfell</td>\n",
       "      <td>1</td>\n",
       "      <td>2014-01-03</td>\n",
       "      <td>NaN</td>\n",
       "      <td>1.00</td>\n",
       "      <td>2014-01-05</td>\n",
       "      <td>Android</td>\n",
       "      <td>0.0</td>\n",
       "      <td>False</td>\n",
       "      <td>0.0</td>\n",
       "      <td>2.37</td>\n",
       "      <td>5.0</td>\n",
       "    </tr>\n",
       "  </tbody>\n",
       "</table>\n",
       "</div>"
      ],
      "text/plain": [
       "             city  trips_in_first_30_days signup_date  avg_rating_of_driver  \\\n",
       "0  King's Landing                       4  2014-01-25                   4.7   \n",
       "1         Astapor                       0  2014-01-29                   5.0   \n",
       "2         Astapor                       3  2014-01-06                   4.3   \n",
       "3  King's Landing                       9  2014-01-10                   4.6   \n",
       "4      Winterfell                      14  2014-01-27                   4.4   \n",
       "5      Winterfell                       2  2014-01-09                   3.5   \n",
       "6         Astapor                       1  2014-01-24                   NaN   \n",
       "7      Winterfell                       2  2014-01-28                   5.0   \n",
       "8      Winterfell                       2  2014-01-21                   4.5   \n",
       "9      Winterfell                       1  2014-01-03                   NaN   \n",
       "\n",
       "   avg_surge last_trip_date    phone  surge_pct  ultimate_black_user  \\\n",
       "0       1.10     2014-06-17   iPhone       15.4                 True   \n",
       "1       1.00     2014-05-05  Android        0.0                False   \n",
       "2       1.00     2014-01-07   iPhone        0.0                False   \n",
       "3       1.14     2014-06-29   iPhone       20.0                 True   \n",
       "4       1.19     2014-03-15  Android       11.8                False   \n",
       "5       1.00     2014-06-06   iPhone        0.0                 True   \n",
       "6       1.00     2014-01-25  Android        0.0                False   \n",
       "7       1.00     2014-01-29   iPhone        0.0                False   \n",
       "8       1.00     2014-02-01  Android        0.0                False   \n",
       "9       1.00     2014-01-05  Android        0.0                False   \n",
       "\n",
       "   weekday_pct  avg_dist  avg_rating_by_driver  \n",
       "0         46.2      3.67                   5.0  \n",
       "1         50.0      8.26                   5.0  \n",
       "2        100.0      0.77                   5.0  \n",
       "3         80.0      2.36                   4.9  \n",
       "4         82.4      3.13                   4.9  \n",
       "5        100.0     10.56                   5.0  \n",
       "6        100.0      3.95                   4.0  \n",
       "7        100.0      2.04                   5.0  \n",
       "8        100.0      4.36                   5.0  \n",
       "9          0.0      2.37                   5.0  "
      ]
     },
     "execution_count": 19,
     "metadata": {},
     "output_type": "execute_result"
    }
   ],
   "source": [
    "df.head(10)"
   ]
  },
  {
   "cell_type": "code",
   "execution_count": 20,
   "id": "22e40a5d",
   "metadata": {},
   "outputs": [
    {
     "name": "stdout",
     "output_type": "stream",
     "text": [
      "<class 'pandas.core.frame.DataFrame'>\n",
      "RangeIndex: 50000 entries, 0 to 49999\n",
      "Data columns (total 12 columns):\n",
      " #   Column                  Non-Null Count  Dtype  \n",
      "---  ------                  --------------  -----  \n",
      " 0   city                    50000 non-null  object \n",
      " 1   trips_in_first_30_days  50000 non-null  int64  \n",
      " 2   signup_date             50000 non-null  object \n",
      " 3   avg_rating_of_driver    41878 non-null  float64\n",
      " 4   avg_surge               50000 non-null  float64\n",
      " 5   last_trip_date          50000 non-null  object \n",
      " 6   phone                   49604 non-null  object \n",
      " 7   surge_pct               50000 non-null  float64\n",
      " 8   ultimate_black_user     50000 non-null  bool   \n",
      " 9   weekday_pct             50000 non-null  float64\n",
      " 10  avg_dist                50000 non-null  float64\n",
      " 11  avg_rating_by_driver    49799 non-null  float64\n",
      "dtypes: bool(1), float64(6), int64(1), object(4)\n",
      "memory usage: 4.2+ MB\n"
     ]
    }
   ],
   "source": [
    "#inspect dataframe\n",
    "df.info()"
   ]
  },
  {
   "cell_type": "code",
   "execution_count": 21,
   "id": "f34fda51",
   "metadata": {},
   "outputs": [
    {
     "data": {
      "text/plain": [
       "0    30.780\n",
       "1    28.216\n",
       "2    14.804\n",
       "3     7.576\n",
       "4     5.124\n",
       "5     3.232\n",
       "6     2.268\n",
       "Name: trips_in_first_30_days, dtype: float64"
      ]
     },
     "execution_count": 21,
     "metadata": {},
     "output_type": "execute_result"
    }
   ],
   "source": [
    "#break down trip counts by percentage\n",
    "df_tripcounts = df['trips_in_first_30_days'].value_counts(normalize=True)*100\n",
    "df_tripcounts.head(7)"
   ]
  },
  {
   "cell_type": "code",
   "execution_count": 22,
   "id": "22b81770",
   "metadata": {},
   "outputs": [
    {
     "data": {
      "text/plain": [
       "69.22"
      ]
     },
     "execution_count": 22,
     "metadata": {},
     "output_type": "execute_result"
    }
   ],
   "source": [
    "#what percentage of drivers are retained?\n",
    "np.sum(df_tripcounts[1:])"
   ]
  },
  {
   "cell_type": "code",
   "execution_count": 23,
   "id": "ce3eda9b",
   "metadata": {},
   "outputs": [
    {
     "name": "stdout",
     "output_type": "stream",
     "text": [
      "<class 'pandas.core.frame.DataFrame'>\n",
      "Int64Index: 49604 entries, 0 to 49999\n",
      "Data columns (total 12 columns):\n",
      " #   Column                  Non-Null Count  Dtype  \n",
      "---  ------                  --------------  -----  \n",
      " 0   city                    49604 non-null  object \n",
      " 1   trips_in_first_30_days  49604 non-null  int64  \n",
      " 2   signup_date             49604 non-null  object \n",
      " 3   avg_rating_of_driver    41578 non-null  float64\n",
      " 4   avg_surge               49604 non-null  float64\n",
      " 5   last_trip_date          49604 non-null  object \n",
      " 6   phone                   49604 non-null  object \n",
      " 7   surge_pct               49604 non-null  float64\n",
      " 8   ultimate_black_user     49604 non-null  bool   \n",
      " 9   weekday_pct             49604 non-null  float64\n",
      " 10  avg_dist                49604 non-null  float64\n",
      " 11  avg_rating_by_driver    49406 non-null  float64\n",
      "dtypes: bool(1), float64(6), int64(1), object(4)\n",
      "memory usage: 4.6+ MB\n"
     ]
    }
   ],
   "source": [
    "#drop rows with no phone information, since we cannot infer that without building a predictive model\n",
    "df = df.drop(df[df.phone.isna()==True].index,axis=0)\n",
    "df.info()"
   ]
  },
  {
   "cell_type": "code",
   "execution_count": 24,
   "id": "87acbfd6",
   "metadata": {},
   "outputs": [
    {
     "data": {
      "text/plain": [
       "count    49406.000000\n",
       "mean         4.777861\n",
       "std          0.447114\n",
       "min          1.000000\n",
       "25%          4.700000\n",
       "50%          5.000000\n",
       "75%          5.000000\n",
       "max          5.000000\n",
       "Name: avg_rating_by_driver, dtype: float64"
      ]
     },
     "execution_count": 24,
     "metadata": {},
     "output_type": "execute_result"
    }
   ],
   "source": [
    "df['avg_rating_by_driver'].describe()"
   ]
  },
  {
   "cell_type": "code",
   "execution_count": 25,
   "id": "994952c0",
   "metadata": {},
   "outputs": [
    {
     "data": {
      "text/plain": [
       "count    41578.000000\n",
       "mean         4.601467\n",
       "std          0.617377\n",
       "min          1.000000\n",
       "25%          4.300000\n",
       "50%          4.900000\n",
       "75%          5.000000\n",
       "max          5.000000\n",
       "Name: avg_rating_of_driver, dtype: float64"
      ]
     },
     "execution_count": 25,
     "metadata": {},
     "output_type": "execute_result"
    }
   ],
   "source": [
    "df['avg_rating_of_driver'].describe()"
   ]
  },
  {
   "cell_type": "code",
   "execution_count": 26,
   "id": "09d21d80",
   "metadata": {},
   "outputs": [],
   "source": [
    "#fill missing values by averaging the mean and median\n",
    "fill_val = (4.777861+5) / 2\n",
    "df['avg_rating_by_driver'] = df['avg_rating_by_driver'].fillna(value=fill_val)\n",
    "\n",
    "#fill missing values with median value\n",
    "df['avg_rating_of_driver'] = df['avg_rating_of_driver'].fillna(value=4.9)"
   ]
  },
  {
   "cell_type": "code",
   "execution_count": 27,
   "id": "0858a652",
   "metadata": {},
   "outputs": [
    {
     "name": "stdout",
     "output_type": "stream",
     "text": [
      "<class 'pandas.core.frame.DataFrame'>\n",
      "Int64Index: 49604 entries, 0 to 49999\n",
      "Data columns (total 12 columns):\n",
      " #   Column                  Non-Null Count  Dtype  \n",
      "---  ------                  --------------  -----  \n",
      " 0   city                    49604 non-null  object \n",
      " 1   trips_in_first_30_days  49604 non-null  int64  \n",
      " 2   signup_date             49604 non-null  object \n",
      " 3   avg_rating_of_driver    49604 non-null  float64\n",
      " 4   avg_surge               49604 non-null  float64\n",
      " 5   last_trip_date          49604 non-null  object \n",
      " 6   phone                   49604 non-null  object \n",
      " 7   surge_pct               49604 non-null  float64\n",
      " 8   ultimate_black_user     49604 non-null  bool   \n",
      " 9   weekday_pct             49604 non-null  float64\n",
      " 10  avg_dist                49604 non-null  float64\n",
      " 11  avg_rating_by_driver    49604 non-null  float64\n",
      "dtypes: bool(1), float64(6), int64(1), object(4)\n",
      "memory usage: 4.6+ MB\n"
     ]
    }
   ],
   "source": [
    "#inspect data after cleaning, everything looks to be in order\n",
    "#we have a clean dataset with minimal reduction in its size\n",
    "df.info()"
   ]
  },
  {
   "cell_type": "code",
   "execution_count": 28,
   "id": "8884be96",
   "metadata": {},
   "outputs": [],
   "source": [
    "###Active users are defined as having any activity in the preceding 30 days. Though the take home challenge writeup does not indicate the current date, we can infer the latest date in the dataset as the current date for our purposes and calculate \"active\" users based on that date."
   ]
  },
  {
   "cell_type": "code",
   "execution_count": 29,
   "id": "859e900a",
   "metadata": {},
   "outputs": [],
   "source": [
    "#convert to timestamp\n",
    "df['last_trip_date'] = pd.to_datetime(df['last_trip_date'])"
   ]
  },
  {
   "cell_type": "code",
   "execution_count": 30,
   "id": "62dcb7f9",
   "metadata": {},
   "outputs": [],
   "source": [
    "#set current date \n",
    "current_date = df['last_trip_date'].max()"
   ]
  },
  {
   "cell_type": "code",
   "execution_count": 31,
   "id": "9d247399",
   "metadata": {},
   "outputs": [
    {
     "data": {
      "text/html": [
       "<div>\n",
       "<style scoped>\n",
       "    .dataframe tbody tr th:only-of-type {\n",
       "        vertical-align: middle;\n",
       "    }\n",
       "\n",
       "    .dataframe tbody tr th {\n",
       "        vertical-align: top;\n",
       "    }\n",
       "\n",
       "    .dataframe thead th {\n",
       "        text-align: right;\n",
       "    }\n",
       "</style>\n",
       "<table border=\"1\" class=\"dataframe\">\n",
       "  <thead>\n",
       "    <tr style=\"text-align: right;\">\n",
       "      <th></th>\n",
       "      <th>city</th>\n",
       "      <th>trips_in_first_30_days</th>\n",
       "      <th>signup_date</th>\n",
       "      <th>avg_rating_of_driver</th>\n",
       "      <th>avg_surge</th>\n",
       "      <th>last_trip_date</th>\n",
       "      <th>phone</th>\n",
       "      <th>surge_pct</th>\n",
       "      <th>ultimate_black_user</th>\n",
       "      <th>weekday_pct</th>\n",
       "      <th>avg_dist</th>\n",
       "      <th>avg_rating_by_driver</th>\n",
       "      <th>active</th>\n",
       "    </tr>\n",
       "  </thead>\n",
       "  <tbody>\n",
       "    <tr>\n",
       "      <th>0</th>\n",
       "      <td>King's Landing</td>\n",
       "      <td>4</td>\n",
       "      <td>2014-01-25</td>\n",
       "      <td>4.7</td>\n",
       "      <td>1.10</td>\n",
       "      <td>2014-06-17</td>\n",
       "      <td>iPhone</td>\n",
       "      <td>15.4</td>\n",
       "      <td>True</td>\n",
       "      <td>46.2</td>\n",
       "      <td>3.67</td>\n",
       "      <td>5.0</td>\n",
       "      <td>1</td>\n",
       "    </tr>\n",
       "    <tr>\n",
       "      <th>1</th>\n",
       "      <td>Astapor</td>\n",
       "      <td>0</td>\n",
       "      <td>2014-01-29</td>\n",
       "      <td>5.0</td>\n",
       "      <td>1.00</td>\n",
       "      <td>2014-05-05</td>\n",
       "      <td>Android</td>\n",
       "      <td>0.0</td>\n",
       "      <td>False</td>\n",
       "      <td>50.0</td>\n",
       "      <td>8.26</td>\n",
       "      <td>5.0</td>\n",
       "      <td>0</td>\n",
       "    </tr>\n",
       "    <tr>\n",
       "      <th>2</th>\n",
       "      <td>Astapor</td>\n",
       "      <td>3</td>\n",
       "      <td>2014-01-06</td>\n",
       "      <td>4.3</td>\n",
       "      <td>1.00</td>\n",
       "      <td>2014-01-07</td>\n",
       "      <td>iPhone</td>\n",
       "      <td>0.0</td>\n",
       "      <td>False</td>\n",
       "      <td>100.0</td>\n",
       "      <td>0.77</td>\n",
       "      <td>5.0</td>\n",
       "      <td>0</td>\n",
       "    </tr>\n",
       "    <tr>\n",
       "      <th>3</th>\n",
       "      <td>King's Landing</td>\n",
       "      <td>9</td>\n",
       "      <td>2014-01-10</td>\n",
       "      <td>4.6</td>\n",
       "      <td>1.14</td>\n",
       "      <td>2014-06-29</td>\n",
       "      <td>iPhone</td>\n",
       "      <td>20.0</td>\n",
       "      <td>True</td>\n",
       "      <td>80.0</td>\n",
       "      <td>2.36</td>\n",
       "      <td>4.9</td>\n",
       "      <td>1</td>\n",
       "    </tr>\n",
       "    <tr>\n",
       "      <th>4</th>\n",
       "      <td>Winterfell</td>\n",
       "      <td>14</td>\n",
       "      <td>2014-01-27</td>\n",
       "      <td>4.4</td>\n",
       "      <td>1.19</td>\n",
       "      <td>2014-03-15</td>\n",
       "      <td>Android</td>\n",
       "      <td>11.8</td>\n",
       "      <td>False</td>\n",
       "      <td>82.4</td>\n",
       "      <td>3.13</td>\n",
       "      <td>4.9</td>\n",
       "      <td>0</td>\n",
       "    </tr>\n",
       "  </tbody>\n",
       "</table>\n",
       "</div>"
      ],
      "text/plain": [
       "             city  trips_in_first_30_days signup_date  avg_rating_of_driver  \\\n",
       "0  King's Landing                       4  2014-01-25                   4.7   \n",
       "1         Astapor                       0  2014-01-29                   5.0   \n",
       "2         Astapor                       3  2014-01-06                   4.3   \n",
       "3  King's Landing                       9  2014-01-10                   4.6   \n",
       "4      Winterfell                      14  2014-01-27                   4.4   \n",
       "\n",
       "   avg_surge last_trip_date    phone  surge_pct  ultimate_black_user  \\\n",
       "0       1.10     2014-06-17   iPhone       15.4                 True   \n",
       "1       1.00     2014-05-05  Android        0.0                False   \n",
       "2       1.00     2014-01-07   iPhone        0.0                False   \n",
       "3       1.14     2014-06-29   iPhone       20.0                 True   \n",
       "4       1.19     2014-03-15  Android       11.8                False   \n",
       "\n",
       "   weekday_pct  avg_dist  avg_rating_by_driver  active  \n",
       "0         46.2      3.67                   5.0       1  \n",
       "1         50.0      8.26                   5.0       0  \n",
       "2        100.0      0.77                   5.0       0  \n",
       "3         80.0      2.36                   4.9       1  \n",
       "4         82.4      3.13                   4.9       0  "
      ]
     },
     "execution_count": 31,
     "metadata": {},
     "output_type": "execute_result"
    }
   ],
   "source": [
    "#find if user qualifies as active\n",
    "df['active'] = df['last_trip_date'].apply(lambda date: 0 if (current_date-date).days>30 else 1)\n",
    "df.head()"
   ]
  },
  {
   "cell_type": "code",
   "execution_count": 32,
   "id": "e3ff9706",
   "metadata": {},
   "outputs": [],
   "source": [
    "###Only 37.6% of users are active at the end of the six month period. Let's build a predictive model to identify the factors associated with activity. Since the dataset has low dimensionality, then we do not need to reduce it using PCA or some other technique. We will employ the Random Forest Classifier since it is powerful for prediction and will give us insight into the importance of the features."
   ]
  },
  {
   "cell_type": "code",
   "execution_count": 33,
   "id": "d588163e",
   "metadata": {},
   "outputs": [],
   "source": [
    "#create dummy variables for categorical features\n",
    "df_features = pd.get_dummies(df,columns=['city','phone','ultimate_black_user'])\n",
    "df_features.head()\n",
    "#set target and drop unuseful columns\n",
    "target = df_features['active']\n",
    "df_features = df_features.drop(['last_trip_date','signup_date','active'],axis=1)"
   ]
  },
  {
   "cell_type": "code",
   "execution_count": 34,
   "id": "f45bfa62",
   "metadata": {},
   "outputs": [
    {
     "data": {
      "text/plain": [
       "<AxesSubplot:xlabel='active', ylabel='avg_dist'>"
      ]
     },
     "execution_count": 34,
     "metadata": {},
     "output_type": "execute_result"
    },
    {
     "data": {
      "image/png": "[encoded data removed]",
      "text/plain": [
       "<Figure size 576x396 with 1 Axes>"
      ]
     },
     "metadata": {},
     "output_type": "display_data"
    }
   ],
   "source": [
    "#visualize difference in average distance by activity of user\n",
    "sns.violinplot(data=df,x='active',y='avg_dist')"
   ]
  },
  {
   "cell_type": "code",
   "execution_count": 35,
   "id": "fd382cbc",
   "metadata": {},
   "outputs": [
    {
     "data": {
      "text/html": [
       "<div>\n",
       "<style scoped>\n",
       "    .dataframe tbody tr th:only-of-type {\n",
       "        vertical-align: middle;\n",
       "    }\n",
       "\n",
       "    .dataframe tbody tr th {\n",
       "        vertical-align: top;\n",
       "    }\n",
       "\n",
       "    .dataframe thead tr th {\n",
       "        text-align: left;\n",
       "    }\n",
       "\n",
       "    .dataframe thead tr:last-of-type th {\n",
       "        text-align: right;\n",
       "    }\n",
       "</style>\n",
       "<table border=\"1\" class=\"dataframe\">\n",
       "  <thead>\n",
       "    <tr>\n",
       "      <th></th>\n",
       "      <th colspan=\"2\" halign=\"left\">avg_dist</th>\n",
       "    </tr>\n",
       "    <tr>\n",
       "      <th></th>\n",
       "      <th>mean</th>\n",
       "      <th>std</th>\n",
       "    </tr>\n",
       "    <tr>\n",
       "      <th>active</th>\n",
       "      <th></th>\n",
       "      <th></th>\n",
       "    </tr>\n",
       "  </thead>\n",
       "  <tbody>\n",
       "    <tr>\n",
       "      <th>0</th>\n",
       "      <td>6.190725</td>\n",
       "      <td>6.184010</td>\n",
       "    </tr>\n",
       "    <tr>\n",
       "      <th>1</th>\n",
       "      <td>5.113930</td>\n",
       "      <td>4.617779</td>\n",
       "    </tr>\n",
       "  </tbody>\n",
       "</table>\n",
       "</div>"
      ],
      "text/plain": [
       "        avg_dist          \n",
       "            mean       std\n",
       "active                    \n",
       "0       6.190725  6.184010\n",
       "1       5.113930  4.617779"
      ]
     },
     "execution_count": 35,
     "metadata": {},
     "output_type": "execute_result"
    }
   ],
   "source": [
    "pd.pivot_table(df,index='active',aggfunc={'avg_dist':['mean','std']})"
   ]
  },
  {
   "cell_type": "code",
   "execution_count": 36,
   "id": "c5579c5a",
   "metadata": {},
   "outputs": [],
   "source": [
    "###There is a difference in the average distance per trip taken in the first 30 days between active users and inactive users, this will be important for predictive modeling.\n",
    "\n",
    "###The average rating by by driver will probably be informative, let's plot it for active vs inactive users."
   ]
  },
  {
   "cell_type": "code",
   "execution_count": 37,
   "id": "4f723c19",
   "metadata": {},
   "outputs": [
    {
     "data": {
      "text/plain": [
       "(3.5, 5.2)"
      ]
     },
     "execution_count": 37,
     "metadata": {},
     "output_type": "execute_result"
    },
    {
     "data": {
      "image/png": "[encoded data removed]",
      "text/plain": [
       "<Figure size 576x396 with 1 Axes>"
      ]
     },
     "metadata": {},
     "output_type": "display_data"
    }
   ],
   "source": [
    "sns.violinplot(data=df,x='active',y='avg_rating_by_driver')\n",
    "plt.ylim([3.5,5.2])"
   ]
  },
  {
   "cell_type": "code",
   "execution_count": 38,
   "id": "c25ff303",
   "metadata": {},
   "outputs": [
    {
     "data": {
      "text/html": [
       "<div>\n",
       "<style scoped>\n",
       "    .dataframe tbody tr th:only-of-type {\n",
       "        vertical-align: middle;\n",
       "    }\n",
       "\n",
       "    .dataframe tbody tr th {\n",
       "        vertical-align: top;\n",
       "    }\n",
       "\n",
       "    .dataframe thead tr th {\n",
       "        text-align: left;\n",
       "    }\n",
       "\n",
       "    .dataframe thead tr:last-of-type th {\n",
       "        text-align: right;\n",
       "    }\n",
       "</style>\n",
       "<table border=\"1\" class=\"dataframe\">\n",
       "  <thead>\n",
       "    <tr>\n",
       "      <th></th>\n",
       "      <th colspan=\"2\" halign=\"left\">avg_rating_by_driver</th>\n",
       "    </tr>\n",
       "    <tr>\n",
       "      <th></th>\n",
       "      <th>median</th>\n",
       "      <th>std</th>\n",
       "    </tr>\n",
       "    <tr>\n",
       "      <th>active</th>\n",
       "      <th></th>\n",
       "      <th></th>\n",
       "    </tr>\n",
       "  </thead>\n",
       "  <tbody>\n",
       "    <tr>\n",
       "      <th>0</th>\n",
       "      <td>5.0</td>\n",
       "      <td>0.503901</td>\n",
       "    </tr>\n",
       "    <tr>\n",
       "      <th>1</th>\n",
       "      <td>4.8</td>\n",
       "      <td>0.328753</td>\n",
       "    </tr>\n",
       "  </tbody>\n",
       "</table>\n",
       "</div>"
      ],
      "text/plain": [
       "       avg_rating_by_driver          \n",
       "                     median       std\n",
       "active                               \n",
       "0                       5.0  0.503901\n",
       "1                       4.8  0.328753"
      ]
     },
     "execution_count": 38,
     "metadata": {},
     "output_type": "execute_result"
    }
   ],
   "source": [
    "pd.pivot_table(df,index='active',aggfunc={'avg_rating_by_driver':['median','std']})"
   ]
  },
  {
   "cell_type": "code",
   "execution_count": 39,
   "id": "9ac83678",
   "metadata": {},
   "outputs": [],
   "source": [
    "###Interestingly, active users have a lower rating than inactive users, perhaps because active users are more likely to have more total trips and therefore a higher chance of doing something to make the drivers give them a rating less than 5. It seems this feature will be important for predictive modeling."
   ]
  },
  {
   "cell_type": "code",
   "execution_count": 40,
   "id": "2c5017c0",
   "metadata": {},
   "outputs": [
    {
     "data": {
      "text/html": [
       "<div>\n",
       "<style scoped>\n",
       "    .dataframe tbody tr th:only-of-type {\n",
       "        vertical-align: middle;\n",
       "    }\n",
       "\n",
       "    .dataframe tbody tr th {\n",
       "        vertical-align: top;\n",
       "    }\n",
       "\n",
       "    .dataframe thead tr th {\n",
       "        text-align: left;\n",
       "    }\n",
       "\n",
       "    .dataframe thead tr:last-of-type th {\n",
       "        text-align: right;\n",
       "    }\n",
       "</style>\n",
       "<table border=\"1\" class=\"dataframe\">\n",
       "  <thead>\n",
       "    <tr>\n",
       "      <th></th>\n",
       "      <th colspan=\"2\" halign=\"left\">trips_in_first_30_days</th>\n",
       "    </tr>\n",
       "    <tr>\n",
       "      <th></th>\n",
       "      <th>mean</th>\n",
       "      <th>std</th>\n",
       "    </tr>\n",
       "    <tr>\n",
       "      <th>active</th>\n",
       "      <th></th>\n",
       "      <th></th>\n",
       "    </tr>\n",
       "  </thead>\n",
       "  <tbody>\n",
       "    <tr>\n",
       "      <th>0</th>\n",
       "      <td>1.657033</td>\n",
       "      <td>2.655767</td>\n",
       "    </tr>\n",
       "    <tr>\n",
       "      <th>1</th>\n",
       "      <td>3.304804</td>\n",
       "      <td>4.985057</td>\n",
       "    </tr>\n",
       "  </tbody>\n",
       "</table>\n",
       "</div>"
      ],
      "text/plain": [
       "       trips_in_first_30_days          \n",
       "                         mean       std\n",
       "active                                 \n",
       "0                    1.657033  2.655767\n",
       "1                    3.304804  4.985057"
      ]
     },
     "execution_count": 40,
     "metadata": {},
     "output_type": "execute_result"
    }
   ],
   "source": [
    "pd.pivot_table(df,index='active',aggfunc={'trips_in_first_30_days':['mean','std']})"
   ]
  },
  {
   "cell_type": "code",
   "execution_count": 41,
   "id": "5776cdb2",
   "metadata": {},
   "outputs": [],
   "source": [
    "###Active users took more trips in their first 30 days. It is not important to verify this using hypothesis testing, because we only want to see the trend and what will be useful for our predictive model."
   ]
  },
  {
   "cell_type": "markdown",
   "id": "9f6d170a",
   "metadata": {},
   "source": [
    "## Predictive Modeling"
   ]
  },
  {
   "cell_type": "code",
   "execution_count": 42,
   "id": "78dd8662",
   "metadata": {},
   "outputs": [
    {
     "data": {
      "text/plain": [
       "0    62.35989\n",
       "1    37.64011\n",
       "Name: active, dtype: float64"
      ]
     },
     "execution_count": 42,
     "metadata": {},
     "output_type": "execute_result"
    }
   ],
   "source": [
    "df.active.value_counts(normalize=True)*100"
   ]
  },
  {
   "cell_type": "code",
   "execution_count": 43,
   "id": "40d31747",
   "metadata": {},
   "outputs": [],
   "source": [
    "from sklearn.ensemble import RandomForestClassifier\n",
    "from sklearn.preprocessing import StandardScaler, QuantileTransformer\n",
    "from sklearn.model_selection import train_test_split, cross_val_score, GridSearchCV\n",
    "from sklearn.metrics import precision_recall_fscore_support, confusion_matrix\n",
    "from sklearn.linear_model import LogisticRegression"
   ]
  },
  {
   "cell_type": "code",
   "execution_count": 44,
   "id": "21ff18fc",
   "metadata": {},
   "outputs": [],
   "source": [
    "#scale data\n",
    "scaler = QuantileTransformer()\n",
    "scaled_features = scaler.fit_transform(df_features)"
   ]
  },
  {
   "cell_type": "code",
   "execution_count": 45,
   "id": "86e680aa",
   "metadata": {},
   "outputs": [],
   "source": [
    "#split data for training and testing\n",
    "X_train, X_test, y_train, y_test = train_test_split(scaled_features, target, test_size=0.2,random_state=42)"
   ]
  },
  {
   "cell_type": "code",
   "execution_count": 46,
   "id": "ac124d21",
   "metadata": {},
   "outputs": [],
   "source": [
    "#build random forest model with 1000 estimators\n",
    "rf = RandomForestClassifier(n_estimators=1000)\n",
    "rf.fit(X_train,y_train)\n",
    "y_pred = rf.predict(X_test)"
   ]
  },
  {
   "cell_type": "code",
   "execution_count": 48,
   "id": "261a98df",
   "metadata": {},
   "outputs": [
    {
     "data": {
      "text/plain": [
       "0.7502267916540671"
      ]
     },
     "execution_count": 48,
     "metadata": {},
     "output_type": "execute_result"
    }
   ],
   "source": [
    "rf.score(X_test,y_test)"
   ]
  },
  {
   "cell_type": "code",
   "execution_count": 49,
   "id": "cf115531",
   "metadata": {},
   "outputs": [
    {
     "name": "stdout",
     "output_type": "stream",
     "text": [
      "[0.75264484 0.74546371 0.75       0.74596774 0.74647177]\n",
      "Mean Cross Validated Score: 0.7498230173884781\n"
     ]
    }
   ],
   "source": [
    "print(cross_val_score(rf,X_test,np.ravel(y_test),cv=5))\n",
    "print('Mean Cross Validated Score:',np.mean(cross_val_score(rf,X_test,np.ravel(y_test),cv=5)))"
   ]
  },
  {
   "cell_type": "code",
   "execution_count": 50,
   "id": "d5d2a7f2",
   "metadata": {},
   "outputs": [
    {
     "data": {
      "text/html": [
       "<div>\n",
       "<style scoped>\n",
       "    .dataframe tbody tr th:only-of-type {\n",
       "        vertical-align: middle;\n",
       "    }\n",
       "\n",
       "    .dataframe tbody tr th {\n",
       "        vertical-align: top;\n",
       "    }\n",
       "\n",
       "    .dataframe thead th {\n",
       "        text-align: right;\n",
       "    }\n",
       "</style>\n",
       "<table border=\"1\" class=\"dataframe\">\n",
       "  <thead>\n",
       "    <tr style=\"text-align: right;\">\n",
       "      <th></th>\n",
       "      <th>feature</th>\n",
       "      <th>importance</th>\n",
       "    </tr>\n",
       "  </thead>\n",
       "  <tbody>\n",
       "    <tr>\n",
       "      <th>5</th>\n",
       "      <td>avg_dist</td>\n",
       "      <td>0.300721</td>\n",
       "    </tr>\n",
       "    <tr>\n",
       "      <th>4</th>\n",
       "      <td>weekday_pct</td>\n",
       "      <td>0.132876</td>\n",
       "    </tr>\n",
       "    <tr>\n",
       "      <th>6</th>\n",
       "      <td>avg_rating_by_driver</td>\n",
       "      <td>0.113883</td>\n",
       "    </tr>\n",
       "    <tr>\n",
       "      <th>0</th>\n",
       "      <td>trips_in_first_30_days</td>\n",
       "      <td>0.080951</td>\n",
       "    </tr>\n",
       "    <tr>\n",
       "      <th>1</th>\n",
       "      <td>avg_rating_of_driver</td>\n",
       "      <td>0.080679</td>\n",
       "    </tr>\n",
       "    <tr>\n",
       "      <th>3</th>\n",
       "      <td>surge_pct</td>\n",
       "      <td>0.077055</td>\n",
       "    </tr>\n",
       "    <tr>\n",
       "      <th>2</th>\n",
       "      <td>avg_surge</td>\n",
       "      <td>0.067657</td>\n",
       "    </tr>\n",
       "    <tr>\n",
       "      <th>8</th>\n",
       "      <td>city_King's Landing</td>\n",
       "      <td>0.047582</td>\n",
       "    </tr>\n",
       "    <tr>\n",
       "      <th>10</th>\n",
       "      <td>phone_Android</td>\n",
       "      <td>0.020006</td>\n",
       "    </tr>\n",
       "    <tr>\n",
       "      <th>11</th>\n",
       "      <td>phone_iPhone</td>\n",
       "      <td>0.019376</td>\n",
       "    </tr>\n",
       "    <tr>\n",
       "      <th>13</th>\n",
       "      <td>ultimate_black_user_True</td>\n",
       "      <td>0.016488</td>\n",
       "    </tr>\n",
       "    <tr>\n",
       "      <th>12</th>\n",
       "      <td>ultimate_black_user_False</td>\n",
       "      <td>0.016428</td>\n",
       "    </tr>\n",
       "    <tr>\n",
       "      <th>7</th>\n",
       "      <td>city_Astapor</td>\n",
       "      <td>0.015843</td>\n",
       "    </tr>\n",
       "    <tr>\n",
       "      <th>9</th>\n",
       "      <td>city_Winterfell</td>\n",
       "      <td>0.010456</td>\n",
       "    </tr>\n",
       "  </tbody>\n",
       "</table>\n",
       "</div>"
      ],
      "text/plain": [
       "                      feature  importance\n",
       "5                    avg_dist    0.300721\n",
       "4                 weekday_pct    0.132876\n",
       "6        avg_rating_by_driver    0.113883\n",
       "0      trips_in_first_30_days    0.080951\n",
       "1        avg_rating_of_driver    0.080679\n",
       "3                   surge_pct    0.077055\n",
       "2                   avg_surge    0.067657\n",
       "8         city_King's Landing    0.047582\n",
       "10              phone_Android    0.020006\n",
       "11               phone_iPhone    0.019376\n",
       "13   ultimate_black_user_True    0.016488\n",
       "12  ultimate_black_user_False    0.016428\n",
       "7                city_Astapor    0.015843\n",
       "9             city_Winterfell    0.010456"
      ]
     },
     "execution_count": 50,
     "metadata": {},
     "output_type": "execute_result"
    }
   ],
   "source": [
    "df_importance = pd.DataFrame(zip(list(df_features.columns),rf.feature_importances_),index=range(df_features.columns.shape[0]),columns=['feature','importance'])\n",
    "df_importance.sort_values(by='importance',ascending=False)"
   ]
  },
  {
   "cell_type": "code",
   "execution_count": 51,
   "id": "fc180b47",
   "metadata": {},
   "outputs": [],
   "source": [
    "###City, phone type, and ultimate black user stats are all relatively unimportant for the model compared to average distance driven, weekday percentage, and the rating given to the passenger by the driver."
   ]
  },
  {
   "cell_type": "code",
   "execution_count": 52,
   "id": "b68d69ab",
   "metadata": {},
   "outputs": [
    {
     "data": {
      "text/plain": [
       "(array([0.8006462 , 0.66657733]),\n",
       " array([0.79935484, 0.66836872]),\n",
       " array([0.8       , 0.66747182]),\n",
       " array([6200, 3721], dtype=int64))"
      ]
     },
     "execution_count": 52,
     "metadata": {},
     "output_type": "execute_result"
    }
   ],
   "source": [
    "#more metrics for our model\n",
    "precision_recall_fscore_support(y_test,y_pred)"
   ]
  },
  {
   "cell_type": "code",
   "execution_count": 53,
   "id": "b97873d6",
   "metadata": {},
   "outputs": [
    {
     "data": {
      "text/plain": [
       "(0.7503619281105133, 0.7502267916540671, 0.7502935833990295, None)"
      ]
     },
     "execution_count": 53,
     "metadata": {},
     "output_type": "execute_result"
    }
   ],
   "source": [
    "#weighted metrics\n",
    "precision_recall_fscore_support(y_test,y_pred,average='weighted')"
   ]
  },
  {
   "cell_type": "code",
   "execution_count": 54,
   "id": "47f5ee03",
   "metadata": {},
   "outputs": [
    {
     "data": {
      "text/plain": [
       "array([[4956, 1244],\n",
       "       [1234, 2487]], dtype=int64)"
      ]
     },
     "execution_count": 54,
     "metadata": {},
     "output_type": "execute_result"
    }
   ],
   "source": [
    "#generate confusion matrix\n",
    "confusion_matrix(y_test,y_pred)"
   ]
  },
  {
   "cell_type": "code",
   "execution_count": 55,
   "id": "21827e78",
   "metadata": {},
   "outputs": [],
   "source": [
    "###75% accuracy is a good start, however let us try a logistic regression model with some hyper parameter tuning, since we already have an idea of the feature importances from the random forest model."
   ]
  },
  {
   "cell_type": "code",
   "execution_count": 56,
   "id": "76312cd3",
   "metadata": {},
   "outputs": [
    {
     "data": {
      "text/plain": [
       "GridSearchCV(cv=5, estimator=LogisticRegression(),\n",
       "             param_grid={'C': array([0.5, 0.6, 0.7, 0.8, 0.9, 1. , 1.1, 1.2, 1.3, 1.4, 1.5, 1.6, 1.7,\n",
       "       1.8, 1.9, 2. , 2.1, 2.2, 2.3, 2.4, 2.5, 2.6, 2.7, 2.8, 2.9, 3. ,\n",
       "       3.1, 3.2, 3.3, 3.4, 3.5, 3.6, 3.7, 3.8, 3.9, 4. , 4.1, 4.2, 4.3,\n",
       "       4.4, 4.5, 4.6, 4.7, 4.8, 4.9, 5. ])})"
      ]
     },
     "execution_count": 56,
     "metadata": {},
     "output_type": "execute_result"
    }
   ],
   "source": [
    "#initialize model\n",
    "logit = LogisticRegression(solver='lbfgs')\n",
    "#set parameter grid\n",
    "param_grid = {'C':np.arange(0.5,5.1,0.1)}\n",
    "#instantiate and fit grid search object\n",
    "grid = GridSearchCV(logit,param_grid,cv=5)\n",
    "grid.fit(X_train,np.ravel(y_train))"
   ]
  },
  {
   "cell_type": "code",
   "execution_count": 57,
   "id": "aaa6ec89",
   "metadata": {},
   "outputs": [
    {
     "data": {
      "text/plain": [
       "3.0999999999999996"
      ]
     },
     "execution_count": 57,
     "metadata": {},
     "output_type": "execute_result"
    }
   ],
   "source": [
    "grid.best_estimator_.C"
   ]
  },
  {
   "cell_type": "code",
   "execution_count": 58,
   "id": "db360b57",
   "metadata": {},
   "outputs": [
    {
     "data": {
      "text/html": [
       "<div>\n",
       "<style scoped>\n",
       "    .dataframe tbody tr th:only-of-type {\n",
       "        vertical-align: middle;\n",
       "    }\n",
       "\n",
       "    .dataframe tbody tr th {\n",
       "        vertical-align: top;\n",
       "    }\n",
       "\n",
       "    .dataframe thead th {\n",
       "        text-align: right;\n",
       "    }\n",
       "</style>\n",
       "<table border=\"1\" class=\"dataframe\">\n",
       "  <thead>\n",
       "    <tr style=\"text-align: right;\">\n",
       "      <th></th>\n",
       "      <th>feature</th>\n",
       "      <th>coefficient</th>\n",
       "    </tr>\n",
       "  </thead>\n",
       "  <tbody>\n",
       "    <tr>\n",
       "      <th>0</th>\n",
       "      <td>trips_in_first_30_days</td>\n",
       "      <td>0.083191</td>\n",
       "    </tr>\n",
       "    <tr>\n",
       "      <th>1</th>\n",
       "      <td>avg_rating_of_driver</td>\n",
       "      <td>-0.464593</td>\n",
       "    </tr>\n",
       "    <tr>\n",
       "      <th>2</th>\n",
       "      <td>avg_surge</td>\n",
       "      <td>2.414756</td>\n",
       "    </tr>\n",
       "    <tr>\n",
       "      <th>3</th>\n",
       "      <td>surge_pct</td>\n",
       "      <td>-1.349327</td>\n",
       "    </tr>\n",
       "    <tr>\n",
       "      <th>4</th>\n",
       "      <td>weekday_pct</td>\n",
       "      <td>-0.243244</td>\n",
       "    </tr>\n",
       "    <tr>\n",
       "      <th>5</th>\n",
       "      <td>avg_dist</td>\n",
       "      <td>0.161589</td>\n",
       "    </tr>\n",
       "    <tr>\n",
       "      <th>6</th>\n",
       "      <td>avg_rating_by_driver</td>\n",
       "      <td>-1.326186</td>\n",
       "    </tr>\n",
       "    <tr>\n",
       "      <th>7</th>\n",
       "      <td>city_Astapor</td>\n",
       "      <td>-0.759905</td>\n",
       "    </tr>\n",
       "    <tr>\n",
       "      <th>8</th>\n",
       "      <td>city_King's Landing</td>\n",
       "      <td>1.132577</td>\n",
       "    </tr>\n",
       "    <tr>\n",
       "      <th>9</th>\n",
       "      <td>city_Winterfell</td>\n",
       "      <td>-0.243728</td>\n",
       "    </tr>\n",
       "    <tr>\n",
       "      <th>10</th>\n",
       "      <td>phone_Android</td>\n",
       "      <td>-0.471540</td>\n",
       "    </tr>\n",
       "    <tr>\n",
       "      <th>11</th>\n",
       "      <td>phone_iPhone</td>\n",
       "      <td>0.600484</td>\n",
       "    </tr>\n",
       "    <tr>\n",
       "      <th>12</th>\n",
       "      <td>ultimate_black_user_False</td>\n",
       "      <td>-0.398951</td>\n",
       "    </tr>\n",
       "    <tr>\n",
       "      <th>13</th>\n",
       "      <td>ultimate_black_user_True</td>\n",
       "      <td>0.527894</td>\n",
       "    </tr>\n",
       "  </tbody>\n",
       "</table>\n",
       "</div>"
      ],
      "text/plain": [
       "                      feature  coefficient\n",
       "0      trips_in_first_30_days     0.083191\n",
       "1        avg_rating_of_driver    -0.464593\n",
       "2                   avg_surge     2.414756\n",
       "3                   surge_pct    -1.349327\n",
       "4                 weekday_pct    -0.243244\n",
       "5                    avg_dist     0.161589\n",
       "6        avg_rating_by_driver    -1.326186\n",
       "7                city_Astapor    -0.759905\n",
       "8         city_King's Landing     1.132577\n",
       "9             city_Winterfell    -0.243728\n",
       "10              phone_Android    -0.471540\n",
       "11               phone_iPhone     0.600484\n",
       "12  ultimate_black_user_False    -0.398951\n",
       "13   ultimate_black_user_True     0.527894"
      ]
     },
     "execution_count": 58,
     "metadata": {},
     "output_type": "execute_result"
    }
   ],
   "source": [
    "#find coefficients from Logistic Regression\n",
    "logit_coef = LogisticRegression(C=grid.best_estimator_.C)\n",
    "logit_coef.fit(X_train,y_train)\n",
    "df_coef = pd.DataFrame(zip(list(df_features.columns),logit_coef.coef_[0]),index=range(df_features.columns.shape[0]),columns=['feature','coefficient'])\n",
    "df_coef"
   ]
  },
  {
   "cell_type": "code",
   "execution_count": 59,
   "id": "d0fe0b72",
   "metadata": {},
   "outputs": [
    {
     "name": "stdout",
     "output_type": "stream",
     "text": [
      "0.7423646095717883\n"
     ]
    }
   ],
   "source": [
    "print(np.mean(cross_val_score(grid,X_test,np.ravel(y_test),cv=5)))"
   ]
  },
  {
   "cell_type": "markdown",
   "id": "9a52c925",
   "metadata": {},
   "source": [
    "- We have not gained any advantage using Logistic Regression for our classifier, the models perform almost identically.\n",
    "\n",
    "- In conclusion, we have extracted very valuable information from this dataset.\n",
    "\n",
    "- First, we have built a predictive model with 75% accuracy, that will be useful for future prediction.\n",
    "\n",
    "- Secondly, the insights from the model are arguably more important and lucrative for the company. Random Forest has given us the most important features and Logistic Regression shows us the effect of the features through the coefficients. Taking the three most important features, we can see the following effects on the \"activity\" of a rider after 6 months.\n",
    "\n",
    "- Average distance: This one is tricky because while our logistic regression model shows that an increase in average distance per trip in the first 30 days increases our chances of being an active user, interestingly, the mean avg_dist is larger for inactive riders than for active. Due to this ambiguity in the data, it may not be advisable to try to increase the distance of trips taken in the first 30 days.\n",
    "\n",
    "- weekday percentage: The chance of being an active user decrease as the percentage of week day use goes up. From this we can see that encouraging people to use the app on the weekend will be beneficial for the company revenue.\n",
    "\n",
    "- average rating by driver: For this feature, there is a decreased likelihood of being an active user as your rating goes up.\n",
    "\n",
    "- trips in the first 30 days: As the number of trips in the first 30 days increases, so does the chance that a rider is active after 6 months.\n",
    "\n",
    "- Based on these insights gained from the model, there are several recomendations for the company.\n",
    "\n",
    "- Offer incentives to riders to use the app on the weekends\n",
    "\n",
    "- Incentivize riders to take more trips during their first 30 days on the app\n",
    "\n",
    "- Encourage drivers not to artificially inflate the ratings they give to users, especially if the driver can tell that they've never done this before.\n",
    "\n",
    "- Following these guidelines will increase the chances of more active users in the long term, and therefore more revenue for the company."
   ]
  }
 ],
 "metadata": {
  "kernelspec": {
   "display_name": "Python 3 (ipykernel)",
   "language": "python",
   "name": "python3"
  },
  "language_info": {
   "codemirror_mode": {
    "name": "ipython",
    "version": 3
   },
   "file_extension": ".py",
   "mimetype": "text/x-python",
   "name": "python",
   "nbconvert_exporter": "python",
   "pygments_lexer": "ipython3",
   "version": "3.9.12"
  }
 },
 "nbformat": 4,
 "nbformat_minor": 5
}
